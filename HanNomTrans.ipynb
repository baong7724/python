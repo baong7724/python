{
  "cells": [
    {
      "cell_type": "code",
      "execution_count": null,
      "metadata": {
        "id": "ntF1IpirghRY"
      },
      "outputs": [],
      "source": [
        "import tensorflow as tf\n",
        "import matplotlib.pyplot as plt\n",
        "import io\n",
        "import random"
      ]
    },
    {
      "cell_type": "code",
      "execution_count": null,
      "metadata": {
        "id": "-9hBP5guavvm",
        "colab": {
          "base_uri": "https://localhost:8080/"
        },
        "outputId": "750db92c-bb07-45ab-99e1-fb2ee1dbec9c"
      },
      "outputs": [
        {
          "output_type": "stream",
          "name": "stdout",
          "text": [
            "148712\n"
          ]
        }
      ],
      "source": [
        "with open('data.txt', 'r', encoding='utf-8') as file:\n",
        "    lines = file.readlines()\n",
        "random.shuffle(lines)\n",
        "total_lines = len(lines)\n",
        "print(len(lines))\n",
        "train_size = int(0.8 * total_lines)\n",
        "train_data = lines[:train_size]\n",
        "validation_data = lines[train_size:]\n",
        "with open('train_data.txt', 'w', encoding='utf-8') as train_file:\n",
        "    train_file.writelines(train_data)\n",
        "with open('validation_data.txt', 'w', encoding='utf-8') as validation_file:\n",
        "    validation_file.writelines(validation_data)"
      ]
    },
    {
      "cell_type": "code",
      "execution_count": null,
      "metadata": {
        "colab": {
          "base_uri": "https://localhost:8080/"
        },
        "id": "AAwr_ss_baWz",
        "outputId": "5bfb649e-08cd-4c0c-d349-2fbc93c4c802"
      },
      "outputs": [
        {
          "output_type": "stream",
          "name": "stdout",
          "text": [
            "118969\n"
          ]
        }
      ],
      "source": [
        "with open('train_data.txt', 'r', encoding='utf-8') as file:\n",
        "    lines = file.readlines()\n",
        "[line for line in lines[:5]]\n",
        "print(len(lines))"
      ]
    },
    {
      "cell_type": "code",
      "execution_count": null,
      "metadata": {
        "colab": {
          "base_uri": "https://localhost:8080/"
        },
        "id": "kog2j7F2b-HB",
        "outputId": "003c5d38-473b-472e-d8a7-4fefdc5dd4d4"
      },
      "outputs": [
        {
          "output_type": "stream",
          "name": "stdout",
          "text": [
            "29743\n"
          ]
        }
      ],
      "source": [
        "with open('validation_data.txt', 'r', encoding='utf-8') as file:\n",
        "    lines = file.readlines()\n",
        "[line for line in lines[:5]]\n",
        "print(len(lines))"
      ]
    },
    {
      "cell_type": "code",
      "execution_count": null,
      "metadata": {
        "id": "U5ifKiixg_1V"
      },
      "outputs": [],
      "source": [
        "def read_sentences(file_path):\n",
        "    sentences = []\n",
        "    with open(file_path, 'r', encoding='utf-8') as file:\n",
        "        lines = file.readlines()\n",
        "    for line in lines:\n",
        "        parts = line.strip().split(',')\n",
        "        if len(parts) >= 2:\n",
        "            sentence = parts[0].strip()\n",
        "            sentences.append(sentence)\n",
        "    return sentences\n",
        "\n",
        "def mkHNdict(file_path):\n",
        "    HanNom_dict = dict()\n",
        "    with open(file_path, 'r', encoding='utf-8') as file:\n",
        "        lines = file.readlines()\n",
        "    for line in lines:\n",
        "        parts = line.strip().split(':')\n",
        "        if len(parts) >= 2:\n",
        "            word = parts[0].strip()\n",
        "            readings = parts[1].strip().split(';')\n",
        "            for reading in readings:\n",
        "                if word in HanNom_dict:\n",
        "                    HanNom_dict[word].append(reading)\n",
        "                else:\n",
        "                    HanNom_dict[word] = [reading]\n",
        "    return HanNom_dict\n",
        "\n",
        "train_data = 'train_data.txt'\n",
        "validation_data ='validation_data.txt'\n",
        "words_data = 'words.txt'\n",
        "\n",
        "sentences = read_sentences(train_data)\n",
        "HanNom_dict = mkHNdict(words_data)"
      ]
    },
    {
      "cell_type": "code",
      "source": [
        "with open('train_data.txt', 'w', encoding='utf-8') as file:\n",
        "    for sentence in sentences:\n",
        "        file.write(sentence + '\\n')"
      ],
      "metadata": {
        "id": "UdkJQMUL-WHh"
      },
      "execution_count": null,
      "outputs": []
    },
    {
      "cell_type": "code",
      "execution_count": null,
      "metadata": {
        "colab": {
          "base_uri": "https://localhost:8080/"
        },
        "id": "Q2VKsCmqa_QR",
        "outputId": "ca943569-5765-4b95-b6d8-28fb77ad49b6"
      },
      "outputs": [
        {
          "output_type": "execute_result",
          "data": {
            "text/plain": [
              "['年去年來堪痛惜', '席前把盞重低徊', '近寒食雨草萋萋', '風疾舟中伏枕書懷三十六韻奉呈湖南親友', '搖落秋天酒易醒']"
            ]
          },
          "metadata": {},
          "execution_count": 7
        }
      ],
      "source": [
        "[sentence for sentence in sentences[:5]]"
      ]
    },
    {
      "cell_type": "code",
      "execution_count": null,
      "metadata": {
        "colab": {
          "base_uri": "https://localhost:8080/"
        },
        "id": "UUfY1vL1cxMf",
        "outputId": "f4e0f33e-1dd1-43d9-99ea-98e45bea3416"
      },
      "outputs": [
        {
          "output_type": "execute_result",
          "data": {
            "text/plain": [
              "['hoảng']"
            ]
          },
          "metadata": {},
          "execution_count": 8
        }
      ],
      "source": [
        "HanNom_dict['㨪']"
      ]
    },
    {
      "cell_type": "code",
      "execution_count": null,
      "metadata": {
        "colab": {
          "base_uri": "https://localhost:8080/"
        },
        "id": "oeQ4PAOec2rb",
        "outputId": "2843638f-7096-4c7a-cf3d-b30c07c102df"
      },
      "outputs": [
        {
          "output_type": "execute_result",
          "data": {
            "text/plain": [
              "['卜世終期歴萬春', '夜讀昏花覺損肝', '余今委修短', '三更鼓角壯軍容', '俊傑晨星']"
            ]
          },
          "metadata": {},
          "execution_count": 9
        }
      ],
      "source": [
        "sentences_val = read_sentences(validation_data)\n",
        "[sentence for sentence in sentences_val[:5]]"
      ]
    },
    {
      "cell_type": "code",
      "execution_count": null,
      "metadata": {
        "id": "rG8SwIqc3mWI"
      },
      "outputs": [],
      "source": [
        "def normalization(data):\n",
        "    str = ''\n",
        "    for i in range(0, len(data)):\n",
        "        str += data[i]\n",
        "        str += ' '\n",
        "    return str"
      ]
    },
    {
      "cell_type": "code",
      "execution_count": null,
      "metadata": {
        "id": "EZRWqjBCniDp"
      },
      "outputs": [],
      "source": [
        "def get_vocab(data):\n",
        "    i = 1\n",
        "    word2idx = dict()\n",
        "    idx2word = dict()\n",
        "    temp = set()\n",
        "\n",
        "    for sentence in sentences:\n",
        "        sentence = normalization(sentence)\n",
        "        for word in sentence.split():\n",
        "            if word not in temp:\n",
        "              temp.add(word)\n",
        "              word2idx[word] = i\n",
        "              idx2word[i] = word\n",
        "              i += 1\n",
        "    word2idx[''] = 0\n",
        "    idx2word[0] = ''\n",
        "    return i, word2idx, idx2word\n",
        "\n",
        "vocab_size, word2idx, idx2word = get_vocab(sentences)"
      ]
    },
    {
      "cell_type": "code",
      "execution_count": null,
      "metadata": {
        "colab": {
          "base_uri": "https://localhost:8080/"
        },
        "id": "QJxuZ2-_aGP-",
        "outputId": "ddf246ae-19a8-49a3-935d-8ba3465fb0e5"
      },
      "outputs": [
        {
          "output_type": "execute_result",
          "data": {
            "text/plain": [
              "7543"
            ]
          },
          "metadata": {},
          "execution_count": 12
        }
      ],
      "source": [
        "vocab_size"
      ]
    },
    {
      "cell_type": "code",
      "execution_count": null,
      "metadata": {
        "colab": {
          "base_uri": "https://localhost:8080/"
        },
        "id": "nILtId4qvLIz",
        "outputId": "9169f14d-f9ea-4819-9138-a44927b1dbbb"
      },
      "outputs": [
        {
          "output_type": "execute_result",
          "data": {
            "text/plain": [
              "(155, '一', ['nhất'])"
            ]
          },
          "metadata": {},
          "execution_count": 13
        }
      ],
      "source": [
        "word2idx['一'], idx2word[word2idx['一']], HanNom_dict[idx2word[word2idx['一']]]"
      ]
    },
    {
      "cell_type": "code",
      "execution_count": null,
      "metadata": {
        "id": "BEzRv_HNzotI"
      },
      "outputs": [],
      "source": [
        "def prev_words(i, doc, window_size):\n",
        "    out = []\n",
        "    for index in range(i - window_size, i):\n",
        "        if index >= 0:\n",
        "            out.append(word2idx[doc[index]])\n",
        "        else:\n",
        "            out.append(0)\n",
        "    return out\n",
        "\n",
        "def next_words(i, doc, window_size):\n",
        "    out = []\n",
        "    for index in range(i + 1, i + window_size + 1, 1):\n",
        "        if index < len(doc):\n",
        "            out.append(word2idx[doc[index]])\n",
        "        else:\n",
        "            out.append(0)\n",
        "    return out\n",
        "\n",
        "def get_training_data(sentences, window_size=6):\n",
        "    X = []\n",
        "    Y = []\n",
        "    for sentence in sentences:\n",
        "        xi = []\n",
        "        yi = []\n",
        "        sentence = normalization(sentence)\n",
        "        sentence = sentence.split()\n",
        "        for index, word in enumerate(sentence):\n",
        "            prev = prev_words(index, sentence, window_size//2)\n",
        "            next = next_words(index, sentence, window_size//2)\n",
        "            assert len(prev) == len(next)\n",
        "            xi.append(prev + next)\n",
        "            yi.append([word2idx[word]])\n",
        "        X.extend(xi)\n",
        "        Y.extend(yi)\n",
        "    return X,Y\n",
        "\n",
        "window_size = 5\n",
        "X,y = get_training_data(sentences, window_size)"
      ]
    },
    {
      "cell_type": "code",
      "execution_count": null,
      "metadata": {
        "colab": {
          "base_uri": "https://localhost:8080/"
        },
        "id": "R0npERq91H7z",
        "outputId": "08d5b540-fa7e-4aa9-9255-fc25b9025f5c"
      },
      "outputs": [
        {
          "output_type": "execute_result",
          "data": {
            "text/plain": [
              "['去', '年', '堪', '痛']"
            ]
          },
          "metadata": {},
          "execution_count": 15
        }
      ],
      "source": [
        "[idx2word[i] for i in X[3]]"
      ]
    },
    {
      "cell_type": "code",
      "execution_count": null,
      "metadata": {
        "colab": {
          "base_uri": "https://localhost:8080/"
        },
        "id": "t1NsUj26HcYF",
        "outputId": "07afc016-ab2a-45f3-9ae9-cd55fef89927"
      },
      "outputs": [
        {
          "output_type": "execute_result",
          "data": {
            "text/plain": [
              "['來']"
            ]
          },
          "metadata": {},
          "execution_count": 16
        }
      ],
      "source": [
        "[idx2word[i] for i in y[3]]"
      ]
    },
    {
      "cell_type": "code",
      "execution_count": null,
      "metadata": {
        "colab": {
          "base_uri": "https://localhost:8080/"
        },
        "id": "0wCC18L2Hg6_",
        "outputId": "e71d43f8-136b-4965-be13-ac9d0cb845c8"
      },
      "outputs": [
        {
          "output_type": "execute_result",
          "data": {
            "text/plain": [
              "730992"
            ]
          },
          "metadata": {},
          "execution_count": 17
        }
      ],
      "source": [
        "len(X)"
      ]
    },
    {
      "cell_type": "code",
      "source": [
        "model = tf.keras.models.Sequential()"
      ],
      "metadata": {
        "id": "hLKnWIoDB3P1"
      },
      "execution_count": null,
      "outputs": []
    },
    {
      "cell_type": "code",
      "execution_count": null,
      "metadata": {
        "id": "UdChhQvhH2jr"
      },
      "outputs": [],
      "source": [
        "embed_size = 128\n",
        "model.add(tf.keras.layers.Embedding(vocab_size, embed_size, input_length=4, name='embedding'))\n",
        "model.add(tf.keras.layers.GlobalAveragePooling1D())\n",
        "model.add(tf.keras.layers.Dense(vocab_size, activation='softmax'))"
      ]
    },
    {
      "cell_type": "code",
      "source": [
        "model.compile(optimizer='Adam', loss='sparse_categorical_crossentropy')"
      ],
      "metadata": {
        "id": "G7Xui-AyB6i3"
      },
      "execution_count": null,
      "outputs": []
    },
    {
      "cell_type": "code",
      "execution_count": null,
      "metadata": {
        "colab": {
          "base_uri": "https://localhost:8080/"
        },
        "id": "LMXcdZGKJj4N",
        "outputId": "7898d4f8-8443-4173-f59d-7f8984c0dbae"
      },
      "outputs": [
        {
          "output_type": "stream",
          "name": "stdout",
          "text": [
            "Epoch 1/100\n",
            "714/714 [==============================] - 18s 24ms/step - loss: 7.4081\n",
            "Epoch 2/100\n",
            "714/714 [==============================] - 6s 8ms/step - loss: 7.1075\n",
            "Epoch 3/100\n",
            "714/714 [==============================] - 6s 8ms/step - loss: 6.8741\n",
            "Epoch 4/100\n",
            "714/714 [==============================] - 5s 7ms/step - loss: 6.6263\n",
            "Epoch 5/100\n",
            "714/714 [==============================] - 5s 7ms/step - loss: 6.4154\n",
            "Epoch 6/100\n",
            "714/714 [==============================] - 5s 7ms/step - loss: 6.2462\n",
            "Epoch 7/100\n",
            "714/714 [==============================] - 5s 7ms/step - loss: 6.1067\n",
            "Epoch 8/100\n",
            "714/714 [==============================] - 5s 7ms/step - loss: 5.9882\n",
            "Epoch 9/100\n",
            "714/714 [==============================] - 5s 7ms/step - loss: 5.8857\n",
            "Epoch 10/100\n",
            "714/714 [==============================] - 5s 7ms/step - loss: 5.7949\n",
            "Epoch 11/100\n",
            "714/714 [==============================] - 5s 7ms/step - loss: 5.7133\n",
            "Epoch 12/100\n",
            "714/714 [==============================] - 4s 6ms/step - loss: 5.6395\n",
            "Epoch 13/100\n",
            "714/714 [==============================] - 5s 7ms/step - loss: 5.5723\n",
            "Epoch 14/100\n",
            "714/714 [==============================] - 5s 7ms/step - loss: 5.5104\n",
            "Epoch 15/100\n",
            "714/714 [==============================] - 5s 7ms/step - loss: 5.4535\n",
            "Epoch 16/100\n",
            "714/714 [==============================] - 5s 7ms/step - loss: 5.4011\n",
            "Epoch 17/100\n",
            "714/714 [==============================] - 6s 8ms/step - loss: 5.3524\n",
            "Epoch 18/100\n",
            "714/714 [==============================] - 5s 7ms/step - loss: 5.3072\n",
            "Epoch 19/100\n",
            "714/714 [==============================] - 5s 8ms/step - loss: 5.2651\n",
            "Epoch 20/100\n",
            "714/714 [==============================] - 5s 7ms/step - loss: 5.2260\n",
            "Epoch 21/100\n",
            "714/714 [==============================] - 5s 6ms/step - loss: 5.1895\n",
            "Epoch 22/100\n",
            "714/714 [==============================] - 5s 7ms/step - loss: 5.1553\n",
            "Epoch 23/100\n",
            "714/714 [==============================] - 5s 7ms/step - loss: 5.1235\n",
            "Epoch 24/100\n",
            "714/714 [==============================] - 5s 7ms/step - loss: 5.0937\n",
            "Epoch 25/100\n",
            "714/714 [==============================] - 5s 7ms/step - loss: 5.0657\n",
            "Epoch 26/100\n",
            "714/714 [==============================] - 5s 6ms/step - loss: 5.0394\n",
            "Epoch 27/100\n",
            "714/714 [==============================] - 6s 8ms/step - loss: 5.0148\n",
            "Epoch 28/100\n",
            "714/714 [==============================] - 5s 7ms/step - loss: 4.9915\n",
            "Epoch 29/100\n",
            "714/714 [==============================] - 5s 7ms/step - loss: 4.9696\n",
            "Epoch 30/100\n",
            "714/714 [==============================] - 5s 6ms/step - loss: 4.9490\n",
            "Epoch 31/100\n",
            "714/714 [==============================] - 5s 7ms/step - loss: 4.9295\n",
            "Epoch 32/100\n",
            "714/714 [==============================] - 5s 7ms/step - loss: 4.9111\n",
            "Epoch 33/100\n",
            "714/714 [==============================] - 5s 7ms/step - loss: 4.8936\n",
            "Epoch 34/100\n",
            "714/714 [==============================] - 5s 7ms/step - loss: 4.8770\n",
            "Epoch 35/100\n",
            "714/714 [==============================] - 5s 7ms/step - loss: 4.8613\n",
            "Epoch 36/100\n",
            "714/714 [==============================] - 5s 7ms/step - loss: 4.8464\n",
            "Epoch 37/100\n",
            "714/714 [==============================] - 5s 7ms/step - loss: 4.8321\n",
            "Epoch 38/100\n",
            "714/714 [==============================] - 5s 6ms/step - loss: 4.8186\n",
            "Epoch 39/100\n",
            "714/714 [==============================] - 5s 7ms/step - loss: 4.8057\n",
            "Epoch 40/100\n",
            "714/714 [==============================] - 5s 7ms/step - loss: 4.7934\n",
            "Epoch 41/100\n",
            "714/714 [==============================] - 4s 6ms/step - loss: 4.7817\n",
            "Epoch 42/100\n",
            "714/714 [==============================] - 5s 7ms/step - loss: 4.7705\n",
            "Epoch 43/100\n",
            "714/714 [==============================] - 5s 7ms/step - loss: 4.7598\n",
            "Epoch 44/100\n",
            "714/714 [==============================] - 5s 6ms/step - loss: 4.7495\n",
            "Epoch 45/100\n",
            "714/714 [==============================] - 5s 7ms/step - loss: 4.7396\n",
            "Epoch 46/100\n",
            "714/714 [==============================] - 5s 6ms/step - loss: 4.7303\n",
            "Epoch 47/100\n",
            "714/714 [==============================] - 5s 7ms/step - loss: 4.7213\n",
            "Epoch 48/100\n",
            "714/714 [==============================] - 4s 6ms/step - loss: 4.7126\n",
            "Epoch 49/100\n",
            "714/714 [==============================] - 4s 6ms/step - loss: 4.7044\n",
            "Epoch 50/100\n",
            "714/714 [==============================] - 5s 7ms/step - loss: 4.6962\n",
            "Epoch 51/100\n",
            "714/714 [==============================] - 5s 7ms/step - loss: 4.6886\n",
            "Epoch 52/100\n",
            "714/714 [==============================] - 5s 7ms/step - loss: 4.6812\n",
            "Epoch 53/100\n",
            "714/714 [==============================] - 5s 7ms/step - loss: 4.6741\n",
            "Epoch 54/100\n",
            "714/714 [==============================] - 5s 6ms/step - loss: 4.6673\n",
            "Epoch 55/100\n",
            "714/714 [==============================] - 5s 7ms/step - loss: 4.6606\n",
            "Epoch 56/100\n",
            "714/714 [==============================] - 5s 7ms/step - loss: 4.6542\n",
            "Epoch 57/100\n",
            "714/714 [==============================] - 5s 6ms/step - loss: 4.6480\n",
            "Epoch 58/100\n",
            "714/714 [==============================] - 5s 6ms/step - loss: 4.6422\n",
            "Epoch 59/100\n",
            "714/714 [==============================] - 5s 7ms/step - loss: 4.6363\n",
            "Epoch 60/100\n",
            "714/714 [==============================] - 4s 6ms/step - loss: 4.6307\n",
            "Epoch 61/100\n",
            "714/714 [==============================] - 5s 7ms/step - loss: 4.6254\n",
            "Epoch 62/100\n",
            "714/714 [==============================] - 5s 7ms/step - loss: 4.6201\n",
            "Epoch 63/100\n",
            "714/714 [==============================] - 4s 6ms/step - loss: 4.6150\n",
            "Epoch 64/100\n",
            "714/714 [==============================] - 5s 7ms/step - loss: 4.6102\n",
            "Epoch 65/100\n",
            "714/714 [==============================] - 5s 7ms/step - loss: 4.6054\n",
            "Epoch 66/100\n",
            "714/714 [==============================] - 5s 7ms/step - loss: 4.6008\n",
            "Epoch 67/100\n",
            "714/714 [==============================] - 5s 6ms/step - loss: 4.5963\n",
            "Epoch 68/100\n",
            "714/714 [==============================] - 5s 7ms/step - loss: 4.5919\n",
            "Epoch 69/100\n",
            "714/714 [==============================] - 5s 6ms/step - loss: 4.5876\n",
            "Epoch 70/100\n",
            "714/714 [==============================] - 5s 7ms/step - loss: 4.5835\n",
            "Epoch 71/100\n",
            "714/714 [==============================] - 5s 7ms/step - loss: 4.5795\n",
            "Epoch 72/100\n",
            "714/714 [==============================] - 5s 7ms/step - loss: 4.5756\n",
            "Epoch 73/100\n",
            "714/714 [==============================] - 5s 7ms/step - loss: 4.5718\n",
            "Epoch 74/100\n",
            "714/714 [==============================] - 5s 7ms/step - loss: 4.5681\n",
            "Epoch 75/100\n",
            "714/714 [==============================] - 5s 7ms/step - loss: 4.5644\n",
            "Epoch 76/100\n",
            "714/714 [==============================] - 5s 7ms/step - loss: 4.5610\n",
            "Epoch 77/100\n",
            "714/714 [==============================] - 5s 6ms/step - loss: 4.5575\n",
            "Epoch 78/100\n",
            "714/714 [==============================] - 5s 7ms/step - loss: 4.5542\n",
            "Epoch 79/100\n",
            "714/714 [==============================] - 5s 6ms/step - loss: 4.5508\n",
            "Epoch 80/100\n",
            "714/714 [==============================] - 4s 6ms/step - loss: 4.5477\n",
            "Epoch 81/100\n",
            "714/714 [==============================] - 5s 7ms/step - loss: 4.5446\n",
            "Epoch 82/100\n",
            "714/714 [==============================] - 5s 6ms/step - loss: 4.5416\n",
            "Epoch 83/100\n",
            "714/714 [==============================] - 5s 7ms/step - loss: 4.5386\n",
            "Epoch 84/100\n",
            "714/714 [==============================] - 5s 7ms/step - loss: 4.5356\n",
            "Epoch 85/100\n",
            "714/714 [==============================] - 5s 7ms/step - loss: 4.5328\n",
            "Epoch 86/100\n",
            "714/714 [==============================] - 5s 7ms/step - loss: 4.5300\n",
            "Epoch 87/100\n",
            "714/714 [==============================] - 5s 6ms/step - loss: 4.5273\n",
            "Epoch 88/100\n",
            "714/714 [==============================] - 5s 7ms/step - loss: 4.5246\n",
            "Epoch 89/100\n",
            "714/714 [==============================] - 5s 7ms/step - loss: 4.5220\n",
            "Epoch 90/100\n",
            "714/714 [==============================] - 5s 6ms/step - loss: 4.5194\n",
            "Epoch 91/100\n",
            "714/714 [==============================] - 5s 7ms/step - loss: 4.5169\n",
            "Epoch 92/100\n",
            "714/714 [==============================] - 5s 6ms/step - loss: 4.5144\n",
            "Epoch 93/100\n",
            "714/714 [==============================] - 5s 7ms/step - loss: 4.5120\n",
            "Epoch 94/100\n",
            "714/714 [==============================] - 5s 7ms/step - loss: 4.5097\n",
            "Epoch 95/100\n",
            "714/714 [==============================] - 4s 6ms/step - loss: 4.5073\n",
            "Epoch 96/100\n",
            "714/714 [==============================] - 5s 7ms/step - loss: 4.5051\n",
            "Epoch 97/100\n",
            "714/714 [==============================] - 5s 6ms/step - loss: 4.5028\n",
            "Epoch 98/100\n",
            "714/714 [==============================] - 5s 7ms/step - loss: 4.5007\n",
            "Epoch 99/100\n",
            "714/714 [==============================] - 5s 7ms/step - loss: 4.4985\n",
            "Epoch 100/100\n",
            "714/714 [==============================] - 5s 7ms/step - loss: 4.4964\n"
          ]
        },
        {
          "output_type": "execute_result",
          "data": {
            "text/plain": [
              "<keras.src.callbacks.History at 0x7be98e873190>"
            ]
          },
          "metadata": {},
          "execution_count": 21
        }
      ],
      "source": [
        "model.fit(X, y, epochs=100, batch_size=1024)"
      ]
    },
    {
      "cell_type": "code",
      "execution_count": null,
      "metadata": {
        "id": "NTFCeSEPucdl",
        "colab": {
          "base_uri": "https://localhost:8080/"
        },
        "outputId": "afa43e4b-6596-454b-f50c-8d33f888961b"
      },
      "outputs": [
        {
          "output_type": "stream",
          "name": "stdout",
          "text": [
            "子 ['tí', 'tử', 'tý']\n"
          ]
        },
        {
          "output_type": "execute_result",
          "data": {
            "text/plain": [
              "[[-0.5184288024902344,\n",
              "  1.0219533443450928,\n",
              "  -0.31270235776901245,\n",
              "  0.8331900238990784,\n",
              "  1.034786581993103,\n",
              "  -0.47794800996780396,\n",
              "  -0.03137361630797386,\n",
              "  -0.2837717533111572,\n",
              "  0.4857039749622345,\n",
              "  -0.24572838842868805,\n",
              "  0.278791218996048,\n",
              "  0.2392360121011734,\n",
              "  0.3041892349720001,\n",
              "  -0.2450365424156189,\n",
              "  0.6090457439422607,\n",
              "  -0.9912082552909851,\n",
              "  0.45812395215034485,\n",
              "  0.21925896406173706,\n",
              "  -0.5079153776168823,\n",
              "  -0.6995775103569031,\n",
              "  -0.6641013026237488,\n",
              "  -0.45018044114112854,\n",
              "  0.7417053580284119,\n",
              "  0.0033155682031065226,\n",
              "  0.0732988640666008,\n",
              "  0.988972544670105,\n",
              "  0.3860028386116028,\n",
              "  -1.225412130355835,\n",
              "  0.5238429307937622,\n",
              "  -0.024168116971850395,\n",
              "  0.1029764711856842,\n",
              "  -0.30866578221321106,\n",
              "  -0.24222414195537567,\n",
              "  -0.8983030319213867,\n",
              "  -0.23586605489253998,\n",
              "  -0.1425383985042572,\n",
              "  1.1137763261795044,\n",
              "  0.6407960653305054,\n",
              "  -0.5044198036193848,\n",
              "  0.505740225315094,\n",
              "  0.3587905168533325,\n",
              "  0.4587855935096741,\n",
              "  0.5038052797317505,\n",
              "  -1.644200325012207,\n",
              "  -0.6044149398803711,\n",
              "  -0.07745812088251114,\n",
              "  -0.4486394226551056,\n",
              "  -0.6283281445503235,\n",
              "  0.02721324749290943,\n",
              "  0.7776158452033997,\n",
              "  -1.2199163436889648,\n",
              "  -0.24282042682170868,\n",
              "  -0.8007322549819946,\n",
              "  1.1874029636383057,\n",
              "  -0.6311973333358765,\n",
              "  -0.4951564073562622,\n",
              "  -0.33588969707489014,\n",
              "  0.0035432293079793453,\n",
              "  -1.3663878440856934,\n",
              "  -0.2124965339899063,\n",
              "  -0.8324049711227417,\n",
              "  0.18269461393356323,\n",
              "  0.49526259303092957,\n",
              "  0.36317652463912964,\n",
              "  0.06416670233011246,\n",
              "  -0.5559796094894409,\n",
              "  1.1789827346801758,\n",
              "  0.9335904121398926,\n",
              "  -0.8856744766235352,\n",
              "  0.8548797965049744,\n",
              "  -0.4663637578487396,\n",
              "  1.0282212495803833,\n",
              "  0.2392730712890625,\n",
              "  -0.3104605972766876,\n",
              "  1.2136677503585815,\n",
              "  0.14404910802841187,\n",
              "  -0.7057450413703918,\n",
              "  -0.5365195274353027,\n",
              "  0.32119616866111755,\n",
              "  0.007665455341339111,\n",
              "  0.5229436755180359,\n",
              "  0.6029802560806274,\n",
              "  0.14468275010585785,\n",
              "  0.5200559496879578,\n",
              "  -1.6942998170852661,\n",
              "  -0.3569878339767456,\n",
              "  -0.09594519436359406,\n",
              "  0.7120981812477112,\n",
              "  0.13943375647068024,\n",
              "  -0.8671694397926331,\n",
              "  0.22383588552474976,\n",
              "  0.6281852722167969,\n",
              "  -0.9185751676559448,\n",
              "  -0.425986111164093,\n",
              "  0.2234339565038681,\n",
              "  -0.46525976061820984,\n",
              "  -0.4473132789134979,\n",
              "  -0.4491247236728668,\n",
              "  -0.5172268748283386,\n",
              "  0.9325751662254333,\n",
              "  -0.7267054915428162,\n",
              "  -0.9013711214065552,\n",
              "  -0.06263824552297592,\n",
              "  0.6588741540908813,\n",
              "  -0.7650447487831116,\n",
              "  1.4435458183288574,\n",
              "  0.1084028109908104,\n",
              "  1.2046054601669312,\n",
              "  0.33275333046913147,\n",
              "  0.19902731478214264,\n",
              "  0.6797468662261963,\n",
              "  -0.9966249465942383,\n",
              "  -1.3404428958892822,\n",
              "  0.13312578201293945,\n",
              "  -0.5348912477493286,\n",
              "  -0.10181117057800293,\n",
              "  -1.0226556062698364,\n",
              "  -0.28746047616004944,\n",
              "  0.44508057832717896,\n",
              "  -0.8236397504806519,\n",
              "  1.1712913513183594,\n",
              "  0.30523577332496643,\n",
              "  0.7775082588195801,\n",
              "  0.7188124060630798,\n",
              "  0.386698842048645,\n",
              "  -0.8602361083030701,\n",
              "  -0.3078981041908264,\n",
              "  -1.5051040649414062]]"
            ]
          },
          "metadata": {},
          "execution_count": 22
        }
      ],
      "source": [
        "word = '子'\n",
        "print(word, HanNom_dict[word])\n",
        "input_vec = tf.convert_to_tensor([word2idx[word]])\n",
        "model.get_layer('embedding')(input_vec).numpy().tolist()"
      ]
    },
    {
      "cell_type": "code",
      "execution_count": null,
      "metadata": {
        "id": "YBJFDqFuu1JL"
      },
      "outputs": [],
      "source": [
        "word2vec = []\n",
        "for word, word_index in word2idx.items():\n",
        "    if word in HanNom_dict:\n",
        "        input_vec = tf.convert_to_tensor([word2idx[word]])\n",
        "        emb = model.get_layer('embedding')(input_vec).numpy().tolist()[0]\n",
        "        phonetic = HanNom_dict[word]\n",
        "        word2vec.append((word, emb, phonetic))"
      ]
    },
    {
      "cell_type": "code",
      "execution_count": null,
      "metadata": {
        "id": "kSIynG3Yu7fl",
        "colab": {
          "base_uri": "https://localhost:8080/"
        },
        "outputId": "b92be651-3a7c-4444-8e48-9e6cdb90d30f"
      },
      "outputs": [
        {
          "output_type": "execute_result",
          "data": {
            "text/plain": [
              "('大',\n",
              " [-0.6223397254943848,\n",
              "  0.7142835855484009,\n",
              "  -0.03700391575694084,\n",
              "  1.2956135272979736,\n",
              "  -0.17411701381206512,\n",
              "  -0.3328477144241333,\n",
              "  -0.7463560700416565,\n",
              "  -0.47998979687690735,\n",
              "  0.6150707006454468,\n",
              "  -0.44184279441833496,\n",
              "  0.48743268847465515,\n",
              "  0.48545166850090027,\n",
              "  -0.5079967379570007,\n",
              "  0.49244070053100586,\n",
              "  -0.20602712035179138,\n",
              "  -0.4190722703933716,\n",
              "  -0.1643294394016266,\n",
              "  -0.52647465467453,\n",
              "  -0.9531281590461731,\n",
              "  -0.9062774777412415,\n",
              "  -0.5918880105018616,\n",
              "  0.10003596544265747,\n",
              "  -0.2469315081834793,\n",
              "  -0.3105505406856537,\n",
              "  0.608995258808136,\n",
              "  0.2879944145679474,\n",
              "  -0.19381582736968994,\n",
              "  -0.29574838280677795,\n",
              "  -0.43304914236068726,\n",
              "  0.8101858496665955,\n",
              "  -1.4257694482803345,\n",
              "  1.3299092054367065,\n",
              "  0.14875759184360504,\n",
              "  0.9730912446975708,\n",
              "  0.1922122687101364,\n",
              "  0.3539963662624359,\n",
              "  -0.8139218091964722,\n",
              "  0.2638566195964813,\n",
              "  0.29089802503585815,\n",
              "  0.8741706013679504,\n",
              "  0.13840094208717346,\n",
              "  -0.15780521929264069,\n",
              "  -0.31507056951522827,\n",
              "  0.26068755984306335,\n",
              "  -0.3921504318714142,\n",
              "  -0.09552846103906631,\n",
              "  0.135263130068779,\n",
              "  0.4161466658115387,\n",
              "  -0.19492878019809723,\n",
              "  1.5115145444869995,\n",
              "  -0.16640788316726685,\n",
              "  -0.47081702947616577,\n",
              "  -0.2758094072341919,\n",
              "  -0.6697248220443726,\n",
              "  0.443408340215683,\n",
              "  0.17428936064243317,\n",
              "  -0.9129660725593567,\n",
              "  0.15266746282577515,\n",
              "  -0.37628886103630066,\n",
              "  0.24270866811275482,\n",
              "  -0.20835548639297485,\n",
              "  0.5377647280693054,\n",
              "  -0.057328883558511734,\n",
              "  0.7904829978942871,\n",
              "  -0.4589987099170685,\n",
              "  -0.04396851733326912,\n",
              "  0.6140214204788208,\n",
              "  -0.7013252973556519,\n",
              "  -1.070176601409912,\n",
              "  -0.5650071501731873,\n",
              "  0.3187050521373749,\n",
              "  0.7397316098213196,\n",
              "  0.14038152992725372,\n",
              "  0.3744308650493622,\n",
              "  -0.5423480868339539,\n",
              "  0.5878564715385437,\n",
              "  -0.9313697814941406,\n",
              "  -0.5137119889259338,\n",
              "  0.5438224673271179,\n",
              "  -0.021988820284605026,\n",
              "  0.7278233170509338,\n",
              "  0.7259368300437927,\n",
              "  -0.6461000442504883,\n",
              "  0.7353870272636414,\n",
              "  0.8938537836074829,\n",
              "  0.8781508803367615,\n",
              "  0.4373168349266052,\n",
              "  0.014241092838346958,\n",
              "  -0.04313533008098602,\n",
              "  0.1804547905921936,\n",
              "  -0.3876395523548126,\n",
              "  0.03180030360817909,\n",
              "  -1.0524669885635376,\n",
              "  -0.10892928391695023,\n",
              "  -0.15000133216381073,\n",
              "  -0.6694244742393494,\n",
              "  -0.17925286293029785,\n",
              "  -0.04701997712254524,\n",
              "  0.3426542282104492,\n",
              "  -0.33318251371383667,\n",
              "  -0.69762122631073,\n",
              "  0.21130108833312988,\n",
              "  -0.39647284150123596,\n",
              "  0.17590771615505219,\n",
              "  0.978002667427063,\n",
              "  0.0907406434416771,\n",
              "  -0.9370063543319702,\n",
              "  0.4231570065021515,\n",
              "  0.29290616512298584,\n",
              "  0.2093207687139511,\n",
              "  0.8066082000732422,\n",
              "  0.9347582459449768,\n",
              "  0.6842797994613647,\n",
              "  0.5893703699111938,\n",
              "  -0.2693970799446106,\n",
              "  -1.1177304983139038,\n",
              "  0.13613711297512054,\n",
              "  0.09104885905981064,\n",
              "  -0.7414695024490356,\n",
              "  -0.28991779685020447,\n",
              "  -0.012163713574409485,\n",
              "  -0.25754091143608093,\n",
              "  0.42896634340286255,\n",
              "  -0.4759577214717865,\n",
              "  0.028631143271923065,\n",
              "  -0.3122502565383911,\n",
              "  0.6571464538574219,\n",
              "  -0.313129186630249],\n",
              " ['đại', 'thái'])"
            ]
          },
          "metadata": {},
          "execution_count": 24
        }
      ],
      "source": [
        "word2vec[123]"
      ]
    },
    {
      "cell_type": "code",
      "source": [
        "out_v = open('vectors.tsv', 'w', encoding='utf-8')\n",
        "out_m = open('metadata.tsv', 'w', encoding='utf-8')\n",
        "\n",
        "for item in word2vec:\n",
        "    word = item[0]\n",
        "    emb = item[1]\n",
        "    phonetic = item[2]\n",
        "\n",
        "    # Write word vectors to vectors.tsv\n",
        "    out_v.write('\\t'.join([str(x) for x in emb]) + '\\n')\n",
        "\n",
        "    # Write metadata (e.g., phonetic) to metadata.tsv\n",
        "    out_m.write(f'{word} - {phonetic}\\n')\n",
        "\n",
        "out_v.close()\n",
        "out_m.close()"
      ],
      "metadata": {
        "id": "X57GRzTk80To"
      },
      "execution_count": null,
      "outputs": []
    },
    {
      "cell_type": "code",
      "source": [
        "random_words = random.sample(word2vec, 30)\n",
        "plt.figure(figsize=(10, 6))\n",
        "plt.scatter([i[1][0] for i in random_words], [i[1][1] for i in random_words])\n",
        "for item in random_words:\n",
        "  word = item[0]\n",
        "  plt.text(item[1][0], item[1][1], word, fontdict={'fontsize':12})\n",
        "plt.show()"
      ],
      "metadata": {
        "id": "Y1WfrAq8BXZ5",
        "colab": {
          "base_uri": "https://localhost:8080/",
          "height": 1000
        },
        "outputId": "af3b1594-a6df-4c41-e356-e7e3944c46e7"
      },
      "execution_count": null,
      "outputs": [
        {
          "output_type": "stream",
          "name": "stderr",
          "text": [
            "/usr/local/lib/python3.10/dist-packages/IPython/core/pylabtools.py:151: UserWarning: Glyph 25890 (\\N{CJK UNIFIED IDEOGRAPH-6522}) missing from current font.\n",
            "  fig.canvas.print_figure(bytes_io, **kw)\n",
            "/usr/local/lib/python3.10/dist-packages/IPython/core/pylabtools.py:151: UserWarning: Glyph 25797 (\\N{CJK UNIFIED IDEOGRAPH-64C5}) missing from current font.\n",
            "  fig.canvas.print_figure(bytes_io, **kw)\n",
            "/usr/local/lib/python3.10/dist-packages/IPython/core/pylabtools.py:151: UserWarning: Glyph 25765 (\\N{CJK UNIFIED IDEOGRAPH-64A5}) missing from current font.\n",
            "  fig.canvas.print_figure(bytes_io, **kw)\n",
            "/usr/local/lib/python3.10/dist-packages/IPython/core/pylabtools.py:151: UserWarning: Glyph 36305 (\\N{CJK UNIFIED IDEOGRAPH-8DD1}) missing from current font.\n",
            "  fig.canvas.print_figure(bytes_io, **kw)\n",
            "/usr/local/lib/python3.10/dist-packages/IPython/core/pylabtools.py:151: UserWarning: Glyph 30626 (\\N{CJK UNIFIED IDEOGRAPH-77A2}) missing from current font.\n",
            "  fig.canvas.print_figure(bytes_io, **kw)\n",
            "/usr/local/lib/python3.10/dist-packages/IPython/core/pylabtools.py:151: UserWarning: Glyph 25978 (\\N{CJK UNIFIED IDEOGRAPH-657A}) missing from current font.\n",
            "  fig.canvas.print_figure(bytes_io, **kw)\n",
            "/usr/local/lib/python3.10/dist-packages/IPython/core/pylabtools.py:151: UserWarning: Glyph 40414 (\\N{CJK UNIFIED IDEOGRAPH-9DDE}) missing from current font.\n",
            "  fig.canvas.print_figure(bytes_io, **kw)\n",
            "/usr/local/lib/python3.10/dist-packages/IPython/core/pylabtools.py:151: UserWarning: Glyph 31355 (\\N{CJK UNIFIED IDEOGRAPH-7A7B}) missing from current font.\n",
            "  fig.canvas.print_figure(bytes_io, **kw)\n",
            "/usr/local/lib/python3.10/dist-packages/IPython/core/pylabtools.py:151: UserWarning: Glyph 31718 (\\N{CJK UNIFIED IDEOGRAPH-7BE6}) missing from current font.\n",
            "  fig.canvas.print_figure(bytes_io, **kw)\n",
            "/usr/local/lib/python3.10/dist-packages/IPython/core/pylabtools.py:151: UserWarning: Glyph 38610 (\\N{CJK UNIFIED IDEOGRAPH-96D2}) missing from current font.\n",
            "  fig.canvas.print_figure(bytes_io, **kw)\n",
            "/usr/local/lib/python3.10/dist-packages/IPython/core/pylabtools.py:151: UserWarning: Glyph 24091 (\\N{CJK UNIFIED IDEOGRAPH-5E1B}) missing from current font.\n",
            "  fig.canvas.print_figure(bytes_io, **kw)\n",
            "/usr/local/lib/python3.10/dist-packages/IPython/core/pylabtools.py:151: UserWarning: Glyph 34505 (\\N{CJK UNIFIED IDEOGRAPH-86C9}) missing from current font.\n",
            "  fig.canvas.print_figure(bytes_io, **kw)\n",
            "/usr/local/lib/python3.10/dist-packages/IPython/core/pylabtools.py:151: UserWarning: Glyph 21040 (\\N{CJK UNIFIED IDEOGRAPH-5230}) missing from current font.\n",
            "  fig.canvas.print_figure(bytes_io, **kw)\n",
            "/usr/local/lib/python3.10/dist-packages/IPython/core/pylabtools.py:151: UserWarning: Glyph 40405 (\\N{CJK UNIFIED IDEOGRAPH-9DD5}) missing from current font.\n",
            "  fig.canvas.print_figure(bytes_io, **kw)\n",
            "/usr/local/lib/python3.10/dist-packages/IPython/core/pylabtools.py:151: UserWarning: Glyph 24322 (\\N{CJK UNIFIED IDEOGRAPH-5F02}) missing from current font.\n",
            "  fig.canvas.print_figure(bytes_io, **kw)\n",
            "/usr/local/lib/python3.10/dist-packages/IPython/core/pylabtools.py:151: UserWarning: Glyph 21330 (\\N{CJK UNIFIED IDEOGRAPH-5352}) missing from current font.\n",
            "  fig.canvas.print_figure(bytes_io, **kw)\n",
            "/usr/local/lib/python3.10/dist-packages/IPython/core/pylabtools.py:151: UserWarning: Glyph 31603 (\\N{CJK UNIFIED IDEOGRAPH-7B73}) missing from current font.\n",
            "  fig.canvas.print_figure(bytes_io, **kw)\n",
            "/usr/local/lib/python3.10/dist-packages/IPython/core/pylabtools.py:151: UserWarning: Glyph 21623 (\\N{CJK UNIFIED IDEOGRAPH-5477}) missing from current font.\n",
            "  fig.canvas.print_figure(bytes_io, **kw)\n",
            "/usr/local/lib/python3.10/dist-packages/IPython/core/pylabtools.py:151: UserWarning: Glyph 29305 (\\N{CJK UNIFIED IDEOGRAPH-7279}) missing from current font.\n",
            "  fig.canvas.print_figure(bytes_io, **kw)\n",
            "/usr/local/lib/python3.10/dist-packages/IPython/core/pylabtools.py:151: UserWarning: Glyph 21144 (\\N{CJK UNIFIED IDEOGRAPH-5298}) missing from current font.\n",
            "  fig.canvas.print_figure(bytes_io, **kw)\n",
            "/usr/local/lib/python3.10/dist-packages/IPython/core/pylabtools.py:151: UserWarning: Glyph 37576 (\\N{CJK UNIFIED IDEOGRAPH-92C8}) missing from current font.\n",
            "  fig.canvas.print_figure(bytes_io, **kw)\n",
            "/usr/local/lib/python3.10/dist-packages/IPython/core/pylabtools.py:151: UserWarning: Glyph 36282 (\\N{CJK UNIFIED IDEOGRAPH-8DBA}) missing from current font.\n",
            "  fig.canvas.print_figure(bytes_io, **kw)\n",
            "/usr/local/lib/python3.10/dist-packages/IPython/core/pylabtools.py:151: UserWarning: Glyph 31336 (\\N{CJK UNIFIED IDEOGRAPH-7A68}) missing from current font.\n",
            "  fig.canvas.print_figure(bytes_io, **kw)\n",
            "/usr/local/lib/python3.10/dist-packages/IPython/core/pylabtools.py:151: UserWarning: Glyph 33162 (\\N{CJK UNIFIED IDEOGRAPH-818A}) missing from current font.\n",
            "  fig.canvas.print_figure(bytes_io, **kw)\n",
            "/usr/local/lib/python3.10/dist-packages/IPython/core/pylabtools.py:151: UserWarning: Glyph 28191 (\\N{CJK UNIFIED IDEOGRAPH-6E1F}) missing from current font.\n",
            "  fig.canvas.print_figure(bytes_io, **kw)\n",
            "/usr/local/lib/python3.10/dist-packages/IPython/core/pylabtools.py:151: UserWarning: Glyph 30827 (\\N{CJK UNIFIED IDEOGRAPH-786B}) missing from current font.\n",
            "  fig.canvas.print_figure(bytes_io, **kw)\n",
            "/usr/local/lib/python3.10/dist-packages/IPython/core/pylabtools.py:151: UserWarning: Glyph 36286 (\\N{CJK UNIFIED IDEOGRAPH-8DBE}) missing from current font.\n",
            "  fig.canvas.print_figure(bytes_io, **kw)\n",
            "/usr/local/lib/python3.10/dist-packages/IPython/core/pylabtools.py:151: UserWarning: Glyph 34865 (\\N{CJK UNIFIED IDEOGRAPH-8831}) missing from current font.\n",
            "  fig.canvas.print_figure(bytes_io, **kw)\n",
            "/usr/local/lib/python3.10/dist-packages/IPython/core/pylabtools.py:151: UserWarning: Glyph 23697 (\\N{CJK UNIFIED IDEOGRAPH-5C91}) missing from current font.\n",
            "  fig.canvas.print_figure(bytes_io, **kw)\n",
            "/usr/local/lib/python3.10/dist-packages/IPython/core/pylabtools.py:151: UserWarning: Glyph 22336 (\\N{CJK UNIFIED IDEOGRAPH-5740}) missing from current font.\n",
            "  fig.canvas.print_figure(bytes_io, **kw)\n"
          ]
        },
        {
          "output_type": "display_data",
          "data": {
            "text/plain": [
              "<Figure size 1000x600 with 1 Axes>"
            ],
            "image/png": "[encoded data removed]"
          },
          "metadata": {}
        }
      ]
    }
  ],
  "metadata": {
    "accelerator": "GPU",
    "colab": {
      "provenance": []
    },
    "kernelspec": {
      "display_name": "Python 3",
      "name": "python3"
    },
    "language_info": {
      "name": "python"
    }
  },
  "nbformat": 4,
  "nbformat_minor": 0
}